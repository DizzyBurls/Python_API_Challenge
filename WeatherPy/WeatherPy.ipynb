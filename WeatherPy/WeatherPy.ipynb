{
 "cells": [
  {
   "cell_type": "markdown",
   "metadata": {},
   "source": [
    "# WeatherPy\n",
    "----\n",
    "\n",
    "#### Note\n",
    "* Instructions have been included for each segment. You do not have to follow them exactly, but they are included to help you think through the steps."
   ]
  },
  {
   "cell_type": "code",
   "execution_count": 1,
   "metadata": {
    "scrolled": true
   },
   "outputs": [],
   "source": [
    "# Dependencies and Setup\n",
    "\n",
    "import matplotlib.pyplot as plt\n",
    "import pandas as pd\n",
    "import numpy as np\n",
    "import requests\n",
    "import time\n",
    "import json as json\n",
    "import csv as csv\n",
    "from scipy.stats import linregress\n",
    "\n",
    "# Import API key\n",
    "\n",
    "from api_keys import weather_api_key\n",
    "\n",
    "# Incorporated citipy to determine city based on latitude and longitude\n",
    "\n",
    "from citipy import citipy\n",
    "\n",
    "# Output File (CSV)\n",
    "\n",
    "output_data_file = \"output_data/cities.csv\"\n",
    "\n",
    "# Range of latitudes and longitudes\n",
    "\n",
    "lat_range = (-90, 90)\n",
    "lng_range = (-180, 180)"
   ]
  },
  {
   "cell_type": "markdown",
   "metadata": {},
   "source": [
    "## Generate Cities List"
   ]
  },
  {
   "cell_type": "code",
   "execution_count": 2,
   "metadata": {},
   "outputs": [
    {
     "data": {
      "text/plain": [
       "5"
      ]
     },
     "execution_count": 2,
     "metadata": {},
     "output_type": "execute_result"
    }
   ],
   "source": [
    "# List for holding lat_lngs and cities\n",
    "\n",
    "lat_lngs = []\n",
    "cities = []\n",
    "\n",
    "#Create a set of random lat and lng combinations\n",
    "#CHANGE BACK TO 1500 FOR SIZE ON BOTH.\n",
    "lats = np.random.uniform(lat_range[0], lat_range[1], size=5)\n",
    "lngs = np.random.uniform(lng_range[0], lng_range[1], size=5)\n",
    "lat_lngs = zip(lats, lngs)\n",
    "\n",
    "#Identify nearest city for each lat, lng combination\n",
    "for lat_lng in lat_lngs:\n",
    "    city = citipy.nearest_city(lat_lng[0], lat_lng[1]).city_name\n",
    "    \n",
    "    # If the city is unique, then add it to a our cities list\n",
    "    if city not in cities:\n",
    "        cities.append(city)\n",
    "\n",
    "# Print the city count to confirm sufficient count\n",
    "len(cities)"
   ]
  },
  {
   "cell_type": "markdown",
   "metadata": {},
   "source": [
    "### Perform API Calls\n",
    "* Perform a weather check on each city using a series of successive API calls.\n",
    "* Include a print log of each city as it's being processed (with the city number and city name).\n"
   ]
  },
  {
   "cell_type": "code",
   "execution_count": 3,
   "metadata": {
    "scrolled": true
   },
   "outputs": [],
   "source": [
    "# Save config information.\n",
    "url = \"http://api.openweathermap.org/data/2.5/weather?\"\n",
    "units = \"metric\"\n",
    "\n",
    "# Build partial query URL\n",
    "query_url = f\"{url}appid={weather_api_key}&units={units}&q=\"\n",
    "      "
   ]
  },
  {
   "cell_type": "code",
   "execution_count": 4,
   "metadata": {},
   "outputs": [
    {
     "name": "stdout",
     "output_type": "stream",
     "text": [
      "{\n",
      "    \"base\": \"stations\",\n",
      "    \"clouds\": {\n",
      "        \"all\": 100\n",
      "    },\n",
      "    \"cod\": 200,\n",
      "    \"coord\": {\n",
      "        \"lat\": -35.2835,\n",
      "        \"lon\": 149.1281\n",
      "    },\n",
      "    \"dt\": 1647498630,\n",
      "    \"id\": 2172517,\n",
      "    \"main\": {\n",
      "        \"feels_like\": 22.95,\n",
      "        \"humidity\": 69,\n",
      "        \"pressure\": 1017,\n",
      "        \"temp\": 22.81,\n",
      "        \"temp_max\": 24.19,\n",
      "        \"temp_min\": 21.88\n",
      "    },\n",
      "    \"name\": \"Canberra\",\n",
      "    \"sys\": {\n",
      "        \"country\": \"AU\",\n",
      "        \"id\": 9588,\n",
      "        \"sunrise\": 1647461018,\n",
      "        \"sunset\": 1647505227,\n",
      "        \"type\": 1\n",
      "    },\n",
      "    \"timezone\": 39600,\n",
      "    \"visibility\": 10000,\n",
      "    \"weather\": [\n",
      "        {\n",
      "            \"description\": \"overcast clouds\",\n",
      "            \"icon\": \"04d\",\n",
      "            \"id\": 804,\n",
      "            \"main\": \"Clouds\"\n",
      "        }\n",
      "    ],\n",
      "    \"wind\": {\n",
      "        \"deg\": 310,\n",
      "        \"speed\": 3.6\n",
      "    }\n",
      "}\n"
     ]
    }
   ],
   "source": [
    "#Print a single jason request to see the structure of the data.\n",
    "\n",
    "trialresponse = requests.get(query_url+\"Canberra\").json()\n",
    "print(json.dumps(trialresponse, indent=4, sort_keys=True))"
   ]
  },
  {
   "cell_type": "code",
   "execution_count": 5,
   "metadata": {},
   "outputs": [],
   "source": [
    "#Create a set of lists to house the weather data provided by the website:\n",
    "    \n",
    "list_city_name=[]\n",
    "list_city_id=[]\n",
    "list_country=[]\n",
    "list_longitude=[]\n",
    "list_latitude=[]\n",
    "list_weather_desciption=[]\n",
    "list_temp=[]\n",
    "list_feels_like=[]\n",
    "list_min_temp=[]\n",
    "list_max_temp=[]\n",
    "list_pressure=[]\n",
    "list_humidity=[]\n",
    "list_visibility=[]\n",
    "list_wind_speed=[]\n",
    "list_wind_temp=[]\n",
    "list_sunrise=[]\n",
    "list_sunset=[]\n",
    "list_cloudiness=[]\n",
    "\n",
    "# Create a value to append to lists when City Data is unavailable.\n",
    "# Failure to append the lists might mean that some are longer than others.\n",
    "# That kind of asymmetry means that a master data frame cannot be created.\n",
    "\n",
    "No_City_Data_Input=\"No_data\""
   ]
  },
  {
   "cell_type": "code",
   "execution_count": 6,
   "metadata": {},
   "outputs": [
    {
     "name": "stdout",
     "output_type": "stream",
     "text": [
      "City Name:   La Ronge  (City ID: 6050066)\n",
      "City Name:   Hermanus  (City ID: 3366880)\n",
      "City Name:   Filingué  (City ID: 2444995)\n",
      "City Name:   Nikolskoye  (City ID: 546105)\n",
      "City Name:   Ushuaia  (City ID: 3833367)\n"
     ]
    }
   ],
   "source": [
    "for city in cities:\n",
    "    response = requests.get(query_url + city).json()\n",
    "    \n",
    "    try:\n",
    "        city_name=response[\"name\"]\n",
    "        list_city_name.append(city_name)\n",
    "        \n",
    "        city_id=int(response[\"id\"])\n",
    "        list_city_id.append(city_id)\n",
    "        \n",
    "        print(\"City Name:   \" + (str(city_name)) + \"  (City ID: \" + (str(city_id)) + \")\")\n",
    "        \n",
    "        country=response[\"sys\"][\"country\"]\n",
    "        list_country.append(country)\n",
    "        \n",
    "        longitude=response[\"coord\"][\"lon\"]\n",
    "        list_longitude.append(longitude)\n",
    "        \n",
    "        latitude=response[\"coord\"][\"lat\"]\n",
    "        list_latitude.append(latitude)\n",
    "        \n",
    "        temp=response[\"main\"][\"temp\"]\n",
    "        list_temp.append(temp)\n",
    "        \n",
    "        feels_like=response[\"main\"][\"feels_like\"]\n",
    "        list_feels_like.append(feels_like)\n",
    "        \n",
    "        min_temp=response[\"main\"][\"temp_min\"]\n",
    "        list_min_temp.append(min_temp)\n",
    "        \n",
    "        max_temp=response[\"main\"][\"temp_max\"]\n",
    "        list_max_temp.append(max_temp)\n",
    "        \n",
    "        pressure=response[\"main\"][\"pressure\"]\n",
    "        list_pressure.append(pressure)\n",
    "        \n",
    "        humidity=response[\"main\"][\"humidity\"]\n",
    "        list_humidity.append(humidity)\n",
    "        \n",
    "        visibility=response[\"visibility\"]\n",
    "        list_visibility.append(visibility)\n",
    "        \n",
    "        wind_speed=response[\"wind\"][\"speed\"]\n",
    "        list_wind_speed.append(wind_speed)\n",
    "        \n",
    "        wind_temp=response[\"wind\"][\"deg\"]\n",
    "        list_wind_temp.append(wind_temp)\n",
    "        \n",
    "        sunrise=response[\"sys\"][\"sunrise\"]\n",
    "        list_sunrise.append(sunrise)\n",
    "        \n",
    "        sunset=response[\"sys\"][\"sunset\"]\n",
    "        list_sunset.append(sunset)\n",
    "        \n",
    "        cloudiness=response[\"clouds\"][\"all\"]\n",
    "        list_cloudiness.append(cloudiness)\n",
    "        \n",
    "    except KeyError:\n",
    "#         print(\"---City not found---\")\n",
    "        list_city_id.append(No_City_Data_Input)\n",
    "        list_country.append(No_City_Data_Input)\n",
    "        list_longitude.append(No_City_Data_Input)\n",
    "        list_latitude.append(No_City_Data_Input)\n",
    "        list_temp.append(No_City_Data_Input)\n",
    "        list_feels_like.append(No_City_Data_Input)\n",
    "        list_min_temp.append(No_City_Data_Input)\n",
    "        list_max_temp.append(No_City_Data_Input)\n",
    "        list_pressure.append(No_City_Data_Input)\n",
    "        list_humidity.append(No_City_Data_Input)\n",
    "        list_visibility.append(No_City_Data_Input)\n",
    "        list_wind_speed.append(No_City_Data_Input)\n",
    "        list_wind_temp.append(No_City_Data_Input)\n",
    "        list_sunrise.append(No_City_Data_Input)\n",
    "        list_sunset.append(No_City_Data_Input)\n",
    "        list_cloudiness.append(No_City_Data_Input)\n",
    "    "
   ]
  },
  {
   "cell_type": "code",
   "execution_count": 7,
   "metadata": {},
   "outputs": [
    {
     "name": "stdout",
     "output_type": "stream",
     "text": [
      "['La Ronge', 'Hermanus', 'Filingué', 'Nikolskoye', 'Ushuaia']\n"
     ]
    }
   ],
   "source": [
    "print(list_city_name)"
   ]
  },
  {
   "cell_type": "code",
   "execution_count": 8,
   "metadata": {},
   "outputs": [
    {
     "name": "stdout",
     "output_type": "stream",
     "text": [
      "[6050066, 3366880, 2444995, 546105, 3833367]\n"
     ]
    }
   ],
   "source": [
    "print(list_city_id)"
   ]
  },
  {
   "cell_type": "code",
   "execution_count": 9,
   "metadata": {},
   "outputs": [
    {
     "name": "stdout",
     "output_type": "stream",
     "text": [
      "['CA', 'ZA', 'NE', 'RU', 'AR']\n"
     ]
    }
   ],
   "source": [
    "print(list_country)"
   ]
  },
  {
   "cell_type": "code",
   "execution_count": 10,
   "metadata": {},
   "outputs": [
    {
     "name": "stdout",
     "output_type": "stream",
     "text": [
      "[-105.2842, 19.2345, 3.3168, 30.7861, -68.3]\n"
     ]
    }
   ],
   "source": [
    "print(list_longitude)"
   ]
  },
  {
   "cell_type": "code",
   "execution_count": 11,
   "metadata": {},
   "outputs": [
    {
     "name": "stdout",
     "output_type": "stream",
     "text": [
      "[55.1001, -34.4187, 14.3521, 59.7035, -54.8]\n"
     ]
    }
   ],
   "source": [
    "print(list_latitude)"
   ]
  },
  {
   "cell_type": "code",
   "execution_count": 12,
   "metadata": {},
   "outputs": [
    {
     "name": "stdout",
     "output_type": "stream",
     "text": [
      "[0.14, 20.45, 24.59, -1.34, 2.81]\n"
     ]
    }
   ],
   "source": [
    "print(list_temp)"
   ]
  },
  {
   "cell_type": "code",
   "execution_count": 13,
   "metadata": {},
   "outputs": [
    {
     "name": "stdout",
     "output_type": "stream",
     "text": [
      "[-2.93, 20.27, 23.5, -4.14, -0.57]\n"
     ]
    }
   ],
   "source": [
    "print(list_feels_like)"
   ]
  },
  {
   "cell_type": "code",
   "execution_count": 14,
   "metadata": {},
   "outputs": [
    {
     "name": "stdout",
     "output_type": "stream",
     "text": [
      "[0.12, 20.45, 24.59, -3.38, 2.81]\n"
     ]
    }
   ],
   "source": [
    "print(list_min_temp)"
   ]
  },
  {
   "cell_type": "code",
   "execution_count": 15,
   "metadata": {},
   "outputs": [
    {
     "name": "stdout",
     "output_type": "stream",
     "text": [
      "[0.14, 20.45, 24.59, 1, 2.81]\n"
     ]
    }
   ],
   "source": [
    "print(list_max_temp)"
   ]
  },
  {
   "cell_type": "code",
   "execution_count": 16,
   "metadata": {},
   "outputs": [
    {
     "name": "stdout",
     "output_type": "stream",
     "text": [
      "[1013, 1017, 1011, 1042, 1003]\n"
     ]
    }
   ],
   "source": [
    "print(list_pressure)"
   ]
  },
  {
   "cell_type": "code",
   "execution_count": 17,
   "metadata": {},
   "outputs": [
    {
     "name": "stdout",
     "output_type": "stream",
     "text": [
      "[86, 66, 15, 80, 81]\n"
     ]
    }
   ],
   "source": [
    "print(list_humidity)"
   ]
  },
  {
   "cell_type": "code",
   "execution_count": 18,
   "metadata": {},
   "outputs": [
    {
     "name": "stdout",
     "output_type": "stream",
     "text": [
      "[10000, 10000, 10000, 10000, 10000]\n"
     ]
    }
   ],
   "source": [
    "print(list_visibility)"
   ]
  },
  {
   "cell_type": "code",
   "execution_count": 19,
   "metadata": {},
   "outputs": [
    {
     "name": "stdout",
     "output_type": "stream",
     "text": [
      "[2.57, 6.01, 4.85, 2.1, 3.6]\n"
     ]
    }
   ],
   "source": [
    "print(list_wind_speed)"
   ]
  },
  {
   "cell_type": "code",
   "execution_count": 20,
   "metadata": {},
   "outputs": [
    {
     "name": "stdout",
     "output_type": "stream",
     "text": [
      "[280, 59, 113, 192, 140]\n"
     ]
    }
   ],
   "source": [
    "print(list_wind_temp)"
   ]
  },
  {
   "cell_type": "code",
   "execution_count": 21,
   "metadata": {},
   "outputs": [
    {
     "name": "stdout",
     "output_type": "stream",
     "text": [
      "[1647522651, 1647492220, 1647496388, 1647490099, 1647512909]\n"
     ]
    }
   ],
   "source": [
    "print(list_sunrise)"
   ]
  },
  {
   "cell_type": "code",
   "execution_count": 22,
   "metadata": {},
   "outputs": [
    {
     "name": "stdout",
     "output_type": "stream",
     "text": [
      "[1647565687, 1647536360, 1647539831, 1647532938, 1647557680]\n"
     ]
    }
   ],
   "source": [
    "print(list_sunset)"
   ]
  },
  {
   "cell_type": "code",
   "execution_count": 25,
   "metadata": {},
   "outputs": [
    {
     "name": "stdout",
     "output_type": "stream",
     "text": [
      "[100, 5, 0, 21, 75]\n"
     ]
    }
   ],
   "source": [
    "print(list_cloudiness)"
   ]
  },
  {
   "cell_type": "markdown",
   "metadata": {},
   "source": [
    "### Convert Raw Data to DataFrame\n",
    "* Export the city data into a .csv.\n",
    "* Display the DataFrame"
   ]
  },
  {
   "cell_type": "code",
   "execution_count": 27,
   "metadata": {},
   "outputs": [
    {
     "data": {
      "text/html": [
       "<div>\n",
       "<style scoped>\n",
       "    .dataframe tbody tr th:only-of-type {\n",
       "        vertical-align: middle;\n",
       "    }\n",
       "\n",
       "    .dataframe tbody tr th {\n",
       "        vertical-align: top;\n",
       "    }\n",
       "\n",
       "    .dataframe thead th {\n",
       "        text-align: right;\n",
       "    }\n",
       "</style>\n",
       "<table border=\"1\" class=\"dataframe\">\n",
       "  <thead>\n",
       "    <tr style=\"text-align: right;\">\n",
       "      <th></th>\n",
       "      <th>City</th>\n",
       "      <th>City ID</th>\n",
       "    </tr>\n",
       "  </thead>\n",
       "  <tbody>\n",
       "    <tr>\n",
       "      <th>0</th>\n",
       "      <td>La Ronge</td>\n",
       "      <td>6050066</td>\n",
       "    </tr>\n",
       "    <tr>\n",
       "      <th>1</th>\n",
       "      <td>Hermanus</td>\n",
       "      <td>3366880</td>\n",
       "    </tr>\n",
       "    <tr>\n",
       "      <th>2</th>\n",
       "      <td>Filingué</td>\n",
       "      <td>2444995</td>\n",
       "    </tr>\n",
       "    <tr>\n",
       "      <th>3</th>\n",
       "      <td>Nikolskoye</td>\n",
       "      <td>546105</td>\n",
       "    </tr>\n",
       "    <tr>\n",
       "      <th>4</th>\n",
       "      <td>Ushuaia</td>\n",
       "      <td>3833367</td>\n",
       "    </tr>\n",
       "  </tbody>\n",
       "</table>\n",
       "</div>"
      ],
      "text/plain": [
       "         City  City ID\n",
       "0    La Ronge  6050066\n",
       "1    Hermanus  3366880\n",
       "2    Filingué  2444995\n",
       "3  Nikolskoye   546105\n",
       "4     Ushuaia  3833367"
      ]
     },
     "execution_count": 27,
     "metadata": {},
     "output_type": "execute_result"
    }
   ],
   "source": [
    "MasterFrame_df=pd.DataFrame({\"City\": list_city_name, \"City ID\": list_city_id})\n",
    "MasterFrame_df"
   ]
  },
  {
   "cell_type": "code",
   "execution_count": null,
   "metadata": {},
   "outputs": [],
   "source": []
  },
  {
   "cell_type": "markdown",
   "metadata": {},
   "source": [
    "## Inspect the data and remove the cities where the humidity > 100%.\n",
    "----\n",
    "Skip this step if there are no cities that have humidity > 100%. "
   ]
  },
  {
   "cell_type": "code",
   "execution_count": null,
   "metadata": {},
   "outputs": [],
   "source": []
  },
  {
   "cell_type": "code",
   "execution_count": 23,
   "metadata": {},
   "outputs": [],
   "source": [
    "#  Get the indices of cities that have humidity over 100%.\n"
   ]
  },
  {
   "cell_type": "code",
   "execution_count": 24,
   "metadata": {},
   "outputs": [],
   "source": [
    "# Make a new DataFrame equal to the city data to drop all humidity outliers by index.\n",
    "# Passing \"inplace=False\" will make a copy of the city_data DataFrame, which we call \"clean_city_data\".\n"
   ]
  },
  {
   "cell_type": "code",
   "execution_count": null,
   "metadata": {},
   "outputs": [],
   "source": [
    "\n"
   ]
  },
  {
   "cell_type": "markdown",
   "metadata": {},
   "source": [
    "## Plotting the Data\n",
    "* Use proper labeling of the plots using plot titles (including date of analysis) and axes labels.\n",
    "* Save the plotted figures as .pngs."
   ]
  },
  {
   "cell_type": "markdown",
   "metadata": {},
   "source": [
    "## Latitude vs. Temperature Plot"
   ]
  },
  {
   "cell_type": "code",
   "execution_count": null,
   "metadata": {
    "scrolled": true
   },
   "outputs": [],
   "source": []
  },
  {
   "cell_type": "markdown",
   "metadata": {},
   "source": [
    "## Latitude vs. Humidity Plot"
   ]
  },
  {
   "cell_type": "code",
   "execution_count": null,
   "metadata": {},
   "outputs": [],
   "source": []
  },
  {
   "cell_type": "markdown",
   "metadata": {},
   "source": [
    "## Latitude vs. Cloudiness Plot"
   ]
  },
  {
   "cell_type": "code",
   "execution_count": null,
   "metadata": {},
   "outputs": [],
   "source": []
  },
  {
   "cell_type": "markdown",
   "metadata": {},
   "source": [
    "## Latitude vs. Wind Speed Plot"
   ]
  },
  {
   "cell_type": "code",
   "execution_count": null,
   "metadata": {},
   "outputs": [],
   "source": []
  },
  {
   "cell_type": "markdown",
   "metadata": {},
   "source": [
    "## Linear Regression"
   ]
  },
  {
   "cell_type": "code",
   "execution_count": null,
   "metadata": {},
   "outputs": [],
   "source": []
  },
  {
   "cell_type": "markdown",
   "metadata": {},
   "source": [
    "####  Northern Hemisphere - Max Temp vs. Latitude Linear Regression"
   ]
  },
  {
   "cell_type": "code",
   "execution_count": null,
   "metadata": {},
   "outputs": [],
   "source": []
  },
  {
   "cell_type": "markdown",
   "metadata": {},
   "source": [
    "####  Southern Hemisphere - Max Temp vs. Latitude Linear Regression"
   ]
  },
  {
   "cell_type": "code",
   "execution_count": null,
   "metadata": {},
   "outputs": [],
   "source": []
  },
  {
   "cell_type": "markdown",
   "metadata": {},
   "source": [
    "####  Northern Hemisphere - Humidity (%) vs. Latitude Linear Regression"
   ]
  },
  {
   "cell_type": "code",
   "execution_count": null,
   "metadata": {},
   "outputs": [],
   "source": []
  },
  {
   "cell_type": "markdown",
   "metadata": {},
   "source": [
    "####  Southern Hemisphere - Humidity (%) vs. Latitude Linear Regression"
   ]
  },
  {
   "cell_type": "code",
   "execution_count": null,
   "metadata": {},
   "outputs": [],
   "source": []
  },
  {
   "cell_type": "markdown",
   "metadata": {},
   "source": [
    "####  Northern Hemisphere - Cloudiness (%) vs. Latitude Linear Regression"
   ]
  },
  {
   "cell_type": "code",
   "execution_count": null,
   "metadata": {},
   "outputs": [],
   "source": []
  },
  {
   "cell_type": "markdown",
   "metadata": {},
   "source": [
    "####  Southern Hemisphere - Cloudiness (%) vs. Latitude Linear Regression"
   ]
  },
  {
   "cell_type": "code",
   "execution_count": null,
   "metadata": {},
   "outputs": [],
   "source": []
  },
  {
   "cell_type": "markdown",
   "metadata": {},
   "source": [
    "####  Northern Hemisphere - Wind Speed (mph) vs. Latitude Linear Regression"
   ]
  },
  {
   "cell_type": "code",
   "execution_count": null,
   "metadata": {},
   "outputs": [],
   "source": []
  },
  {
   "cell_type": "markdown",
   "metadata": {},
   "source": [
    "####  Southern Hemisphere - Wind Speed (mph) vs. Latitude Linear Regression"
   ]
  },
  {
   "cell_type": "code",
   "execution_count": null,
   "metadata": {},
   "outputs": [],
   "source": []
  },
  {
   "cell_type": "code",
   "execution_count": null,
   "metadata": {},
   "outputs": [],
   "source": []
  }
 ],
 "metadata": {
  "anaconda-cloud": {},
  "kernel_info": {
   "name": "python3"
  },
  "kernelspec": {
   "display_name": "Python 3 (ipykernel)",
   "language": "python",
   "name": "python3"
  },
  "language_info": {
   "codemirror_mode": {
    "name": "ipython",
    "version": 3
   },
   "file_extension": ".py",
   "mimetype": "text/x-python",
   "name": "python",
   "nbconvert_exporter": "python",
   "pygments_lexer": "ipython3",
   "version": "3.9.7"
  },
  "latex_envs": {
   "LaTeX_envs_menu_present": true,
   "autoclose": false,
   "autocomplete": true,
   "bibliofile": "biblio.bib",
   "cite_by": "apalike",
   "current_citInitial": 1,
   "eqLabelWithNumbers": true,
   "eqNumInitial": 1,
   "hotkeys": {
    "equation": "Ctrl-E",
    "itemize": "Ctrl-I"
   },
   "labels_anchors": false,
   "latex_user_defs": false,
   "report_style_numbering": false,
   "user_envs_cfg": false
  },
  "nteract": {
   "version": "0.12.3"
  }
 },
 "nbformat": 4,
 "nbformat_minor": 2
}
